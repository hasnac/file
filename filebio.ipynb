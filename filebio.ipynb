{
 "cells": [
  {
   "cell_type": "code",
   "execution_count": null,
   "id": "1900deb2-5b2e-4f73-bf0e-d07495846aad",
   "metadata": {},
   "outputs": [
    {
     "name": "stdout",
     "output_type": "stream",
     "text": [
      "\n",
      " File Handling \n",
      "1. Membuat File Baru\n",
      "2. Membaca File\n",
      "3. Mengedit File\n",
      "4. Keluar\n"
     ]
    },
    {
     "name": "stdin",
     "output_type": "stream",
     "text": [
      "Pilihan (1/2/3/4):  1\n",
      "Nama File:  Biodata1\n",
      "Nama Anda:  Hasna Choirunnisa\n",
      "Nim Anda:  065002400038\n",
      "Tahun Angkatan:  2024\n"
     ]
    },
    {
     "name": "stdout",
     "output_type": "stream",
     "text": [
      "\n",
      "File Berhasil dibuat\n",
      "\n",
      " File Handling \n",
      "1. Membuat File Baru\n",
      "2. Membaca File\n",
      "3. Mengedit File\n",
      "4. Keluar\n"
     ]
    },
    {
     "name": "stdin",
     "output_type": "stream",
     "text": [
      "Pilihan (1/2/3/4):  2\n",
      "Nama File:  Biodata1\n"
     ]
    },
    {
     "name": "stdout",
     "output_type": "stream",
     "text": [
      "\n",
      "Isi File:\n",
      "Nama: Hasna Choirunnisa\n",
      "NIM: 065002400038\n",
      "Tahun: 2024\n",
      "\n",
      "\n",
      " File Handling \n",
      "1. Membuat File Baru\n",
      "2. Membaca File\n",
      "3. Mengedit File\n",
      "4. Keluar\n"
     ]
    },
    {
     "name": "stdin",
     "output_type": "stream",
     "text": [
      "Pilihan (1/2/3/4):  3\n",
      "Nama File:  Biodata1\n",
      "Masukkan Nama Sahabatmu:  Dekanto\n"
     ]
    }
   ],
   "source": [
    "while True:\n",
    "    # Menampilkan menu utama\n",
    "    print(\"\\n File Handling \")\n",
    "    print(\"1. Membuat File Baru\")\n",
    "    print(\"2. Membaca File\")\n",
    "    print(\"3. Mengedit File\")\n",
    "    print(\"4. Keluar\")\n",
    "    pilihan = input(\"Pilihan (1/2/3/4): \")\n",
    "\n",
    "    if pilihan == \"1\":\n",
    "        # Membuat file baru\n",
    "        nama_file = input(\"Nama File: \") + \".txt\"\n",
    "        with open(nama_file, \"w\") as file:\n",
    "            nama = input(\"Nama Anda: \")\n",
    "            nim = input(\"Nim Anda: \")\n",
    "            tahun = input(\"Tahun Angkatan: \")\n",
    "            file.write(f\"Nama: {nama}\\n\")\n",
    "            file.write(f\"NIM: {nim}\\n\")\n",
    "            file.write(f\"Tahun: {tahun}\\n\")\n",
    "        print(\"\\nFile Berhasil dibuat\")\n",
    "\n",
    "    elif pilihan == \"2\":\n",
    "        # Membaca file\n",
    "        nama_file = input(\"Nama File: \") + \".txt\"\n",
    "        try:\n",
    "            with open(nama_file, \"r\") as file:\n",
    "                print(\"\\nIsi File:\")\n",
    "                print(file.read())\n",
    "        except FileNotFoundError:\n",
    "            print(\"\\nFile tidak ada\")\n",
    "\n",
    "    elif pilihan == \"3\":\n",
    "        # Mengedit file\n",
    "        nama_file = input(\"Nama File: \") + \".txt\"\n",
    "        try:\n",
    "            with open(nama_file, \"a\") as file:\n",
    "                sahabat = input(\"Masukkan Nama Sahabatmu: \")\n",
    "                note = input(\"Masukkan Note Tambahan: \")\n",
    "                file.write(f\"Nama Sahabat: {sahabat}\\n\")\n",
    "                file.write(f\"Note: {note}\\n\")\n",
    "            print(\"\\nData berhasil ditambahkan.\")\n",
    "        except FileNotFoundError:\n",
    "            print(\"\\nFile tidak ada\")\n",
    "\n",
    "    elif pilihan == \"4\":\n",
    "        # Keluar dari program\n",
    "        print(\"\\nBye hh\")\n",
    "        break\n",
    "\n",
    "    else:\n",
    "        # Pilihan tidak valid\n",
    "        print(\"\\nPilihan tidak ada\")"
   ]
  },
  {
   "cell_type": "code",
   "execution_count": null,
   "id": "8004fd03-01a3-4da5-a381-431060ffbdde",
   "metadata": {},
   "outputs": [],
   "source": []
  }
 ],
 "metadata": {
  "kernelspec": {
   "display_name": "Python 3 (ipykernel)",
   "language": "python",
   "name": "python3"
  },
  "language_info": {
   "codemirror_mode": {
    "name": "ipython",
    "version": 3
   },
   "file_extension": ".py",
   "mimetype": "text/x-python",
   "name": "python",
   "nbconvert_exporter": "python",
   "pygments_lexer": "ipython3",
   "version": "3.12.4"
  }
 },
 "nbformat": 4,
 "nbformat_minor": 5
}
