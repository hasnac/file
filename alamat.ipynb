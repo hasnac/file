{
 "cells": [
  {
   "cell_type": "code",
   "execution_count": 15,
   "id": "b306c54e-c371-4855-bf87-9d2de7ad99d5",
   "metadata": {},
   "outputs": [
    {
     "name": "stdin",
     "output_type": "stream",
     "text": [
      "Masukkan nama :  hasna\n",
      "Umur kalian :  18\n",
      "Alamat kalian :  tangerang\n",
      "Email kalian :  hasna@gmail.com\n",
      "Dosen Kalian :  bu ratna\n"
     ]
    },
    {
     "name": "stdout",
     "output_type": "stream",
     "text": [
      "berikut data kamu \n",
      "Nama: hasna\n",
      "Umur : 18 \n",
      "Alamat: tangerang\n",
      "Email: hasna@gmail.com\n",
      "Dosen : bu ratna \n",
      "\n"
     ]
    }
   ],
   "source": [
    "file = open(\"text3.txt\", \"r+\")\n",
    "nama = input(\"Masukkan nama : \")\n",
    "umur = input(\"Umur kalian : \")\n",
    "alamat = input (\"Alamat kalian : \")\n",
    "email = input(\"Email kalian : \")\n",
    "dosen = input(\"Dosen Kalian : \")\n",
    "file.write(f\"Nama: {nama}\\n\")\n",
    "file.write(f\"Umur : {umur} \\n\")\n",
    "file.write(f\"Alamat: {alamat}\\n\")\n",
    "file.write(f\"Email: {email}\\n\")\n",
    "file.write(f\"Dosen : {dosen} \\n\")\n",
    "file.close()\n",
    "file = open(\"text3.txt\", \"r+\")\n",
    "print(\"berikut data kamu \")\n",
    "text = file.read()\n",
    "print(text)\n",
    "file.close()"
   ]
  },
  {
   "cell_type": "code",
   "execution_count": 3,
   "id": "6a272e8c-fb31-4a80-89da-5109631968c3",
   "metadata": {},
   "outputs": [
    {
     "ename": "IndentationError",
     "evalue": "expected an indented block after 'for' statement on line 16 (3894799866.py, line 17)",
     "output_type": "error",
     "traceback": [
      "\u001b[1;36m  Cell \u001b[1;32mIn[3], line 17\u001b[1;36m\u001b[0m\n\u001b[1;33m    print(f\"{kelas:<5} {matkul:<25} {dosen}\")\u001b[0m\n\u001b[1;37m                                             ^\u001b[0m\n\u001b[1;31mIndentationError\u001b[0m\u001b[1;31m:\u001b[0m expected an indented block after 'for' statement on line 16\n"
     ]
    }
   ],
   "source": []
  },
  {
   "cell_type": "code",
   "execution_count": null,
   "id": "87c213bb-6a12-4e56-aae0-b3eec00ba9d2",
   "metadata": {},
   "outputs": [],
   "source": []
  }
 ],
 "metadata": {
  "kernelspec": {
   "display_name": "Python 3 (ipykernel)",
   "language": "python",
   "name": "python3"
  },
  "language_info": {
   "codemirror_mode": {
    "name": "ipython",
    "version": 3
   },
   "file_extension": ".py",
   "mimetype": "text/x-python",
   "name": "python",
   "nbconvert_exporter": "python",
   "pygments_lexer": "ipython3",
   "version": "3.12.4"
  }
 },
 "nbformat": 4,
 "nbformat_minor": 5
}
